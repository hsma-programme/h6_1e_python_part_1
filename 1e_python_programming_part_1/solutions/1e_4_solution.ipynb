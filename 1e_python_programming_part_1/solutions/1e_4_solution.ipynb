{
 "cells": [
  {
   "cell_type": "markdown",
   "metadata": {},
   "source": [
    "# HSMA 1E - Python Programming Part 1\n",
    "## Exercise 4 - SOLUTIONS"
   ]
  },
  {
   "cell_type": "markdown",
   "metadata": {},
   "source": [
    "This workbook is intended to accompany Session 1E of the HSMA Training Programme - Python Programming Part 1.  You should be completing this when prompted by the trainer as Exercise 4 of the session.  You should read each task, and then try to write code to achieve what you are being asked in the code cell below each set of instructions.  Remember - check your code is working by running the code cell (CTRL + Enter whilst in the cell, or click the play button to the left of the cell)."
   ]
  },
  {
   "cell_type": "markdown",
   "metadata": {},
   "source": [
    "**Task 1** Write code that does the following :\n",
    "- Creates a new empty list of numbers\n",
    "- Asks the user to input 10 numbers.  For each number, the code checks to see if it is already in the list of numbers.  If it is, then the user is asked to input a different number, and will keep being asked until a valid number is entered (ie it won't count as one of the 10 numbers until a valid one has been entered).  If it isn't in the list, the number is added to the list of numbers. (*Think carefully about how to do this step.  There are different approaches, but break it down.  Think about how you would do it for a single number, then for 10 numbers.*)\n",
    "- Once the list of 10 numbers has been assembled, it is printed to the screen\n",
    "- The code then grabs the first half of the list, and prints that to the screen\n",
    "- The code then uses the second half of the list to create a new list comrprised of the numbers in this second half, but halved.  This new list is then printed.\n",
    "- The code then creates a new list comprised of numbers from the entire original list, but only those that are less than 100.  This list is then printed, along with a message informing the user how many numbers are less than 100.\n",
    "- Finally, the code creates a new dictionary named list_meta_data which contains the following keys : \"Total numbers\", \"Total low numbers\", \"First number added\" and \"Last number added\", and the corresponding values stored against each of these keys.  The dictionary is then printed."
   ]
  },
  {
   "cell_type": "code",
   "execution_count": null,
   "metadata": {},
   "outputs": [],
   "source": [
    "# Create empty list of numbers\n",
    "list_of_numbers = []\n",
    "\n",
    "# Ask the user to input a number 10 times.  Each number entered should first\n",
    "# be checked to see if it is already in the list.  If it is, the user must\n",
    "# choose another.  If it isn't, it's added to the list, and they can move on\n",
    "# to adding the next number.\n",
    "for x in range(10):\n",
    "    valid_number = False\n",
    "    \n",
    "    while valid_number == False:\n",
    "        number_to_add = int(input(f\"Please input number {x}\"))\n",
    "\n",
    "        if number_to_add not in list_of_numbers:\n",
    "            list_of_numbers.append(number_to_add)\n",
    "            valid_number = True\n",
    "        else:\n",
    "            print (\"That number's already there.  Please choose another.\")\n",
    "\n",
    "# Print the list of 10 numbers\n",
    "print (list_of_numbers)\n",
    "\n",
    "# Grab the first half of the list, and print it\n",
    "first_half_slice = list_of_numbers[:5]\n",
    "print (first_half_slice)\n",
    "\n",
    "# Use the second half of the list to create a new list that is those numbers\n",
    "# halved.  Then print that new list.\n",
    "second_half_slice = list_of_numbers[5:]\n",
    "halved_second_slice = [num/2 for num in second_half_slice]\n",
    "print (halved_second_slice)\n",
    "\n",
    "# Create a list of numbers from the original list but only including those that\n",
    "# are less than 100.  Then print that list, along with a message indicating\n",
    "# how many there are.\n",
    "low_numbers_only = [num for num in list_of_numbers if num < 100]\n",
    "print (low_numbers_only)\n",
    "print (f\"There are {len(low_numbers_only)} numbers less than 100\")\n",
    "\n",
    "# Set up a dictionary with various meta data about the list, and print it\n",
    "list_meta_data = {\"Total numbers\" : len(list_of_numbers),\n",
    "                  \"Total low numbers\" : len(low_numbers_only),\n",
    "                  \"First number added\" : list_of_numbers[0],\n",
    "                  \"Last number added\" : list_of_numbers[-1]}\n",
    "\n",
    "print (list_meta_data)\n"
   ]
  }
 ],
 "metadata": {
  "kernelspec": {
   "display_name": "base",
   "language": "python",
   "name": "python3"
  },
  "language_info": {
   "codemirror_mode": {
    "name": "ipython",
    "version": 3
   },
   "file_extension": ".py",
   "mimetype": "text/x-python",
   "name": "python",
   "nbconvert_exporter": "python",
   "pygments_lexer": "ipython3",
   "version": "3.11.4"
  }
 },
 "nbformat": 4,
 "nbformat_minor": 2
}
