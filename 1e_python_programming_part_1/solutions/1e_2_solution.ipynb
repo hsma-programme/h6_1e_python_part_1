{
 "cells": [
  {
   "cell_type": "markdown",
   "metadata": {},
   "source": [
    "# HSMA 1E - Python Programming Part 1\n",
    "## Exercise 2 - SOLUTIONS"
   ]
  },
  {
   "cell_type": "markdown",
   "metadata": {},
   "source": [
    "This workbook is intended to accompany Session 1E of the HSMA Training Programme - Python Programming Part 1.  You should be completing this when prompted by the trainer as Exercise 2 of the session.  You should read each task, and then try to write code to achieve what you are being asked in the code cell below each set of instructions.  Remember - check your code is working by running the code cell (CTRL + Enter whilst in the cell, or click the play button to the left of the cell)."
   ]
  },
  {
   "cell_type": "markdown",
   "metadata": {},
   "source": [
    "**Task 1**\n",
    "Write code that asks the user to input their monthly take home, housing costs, food costs and utility costs.  Then, calculate the remaining amount of their take home after housing, food and utility costs have been deducted, as well as the percentage of their monthly take home that is eaten up by housing costs.  Finally, print a message to the user telling them what their monthly remaining amount is after housing, food and utility costs, and what the percentage of their monthly take home that is housing costs, **rounded to 2 decimal places**.  You should include comments in your code to explain what everything does.\n",
    "\n",
    "Tip : to avoid going over the 80 character width line for print statements, you can separate components of a string using commas, to provide multiple inputs (within the brackets) to the print statement - this will create an *implicit line continuation*.  The output will come out on the same line, but a space will be added between each component.  Run the below cell to see how it works.  NOTE - if you are using fStrings, it works in the same way, but you must include the f ahead of any string that uses f-string functionality."
   ]
  },
  {
   "cell_type": "code",
   "execution_count": 5,
   "metadata": {},
   "outputs": [
    {
     "name": "stdout",
     "output_type": "stream",
     "text": [
      "My name is Dan, and I'd like to tell you this really long story to ensure that the example I'm giving here goes over the 80 character limit that I keep talking about.\n"
     ]
    }
   ],
   "source": [
    "print (\"My name is Dan, and I'd like to tell you this really long story to\",\n",
    "       \"ensure that the example I'm giving here goes over the 80 character\",\n",
    "       \"limit that I keep talking about.\")"
   ]
  },
  {
   "cell_type": "code",
   "execution_count": 4,
   "metadata": {},
   "outputs": [
    {
     "name": "stdout",
     "output_type": "stream",
     "text": [
      "Your monthly amount after housing, food and utility costs is £334.  Your housing costs represent 48.62% of your monthly take home.\n"
     ]
    }
   ],
   "source": [
    "# Get inputs from user, cast as integers and store in variables\n",
    "monthly_take_home = int(input(\"What's your monthly take home income? : \"))\n",
    "housing_costs = int(input(\"What's your monthly housing cost (rent/mortgage)?\"))\n",
    "food_costs = int(input(\"How much do you spend on food per month?\"))\n",
    "utility_costs = int(input(\"How much do you spend on utilities per month?\"))\n",
    "\n",
    "# Calculate remaining money after housing, food and utility costs\n",
    "remaining = monthly_take_home - housing_costs - food_costs - utility_costs\n",
    "\n",
    "# Calculate the percentage of take home that housing costs represent\n",
    "housing_perc = housing_costs / monthly_take_home\n",
    "\n",
    "# Print the message to the user\n",
    "print (f\"Your monthly amount after housing, food and utility costs is\",\n",
    "       f\"£{remaining}.  Your housing costs represent {housing_perc*100:.2f}%\",\n",
    "       f\"of your monthly take home.\")"
   ]
  },
  {
   "cell_type": "markdown",
   "metadata": {},
   "source": [
    "**Task 2** Write code that asks the user to input a day number from 1 up to and including 365, and which, assuming that day 1 is a Monday, prints out the day of the week corresponding to the day the user inputs.  For example, if the user were to input 16, the code should print out \"Tuesday\".  Tip - look back over the slides and talk in your groups to try to work out a way of doing this efficiently.  If you're writing 365 lines of code, you've gone in the wrong direction... :).  Don't forget to comment your code."
   ]
  },
  {
   "cell_type": "code",
   "execution_count": 6,
   "metadata": {},
   "outputs": [
    {
     "name": "stdout",
     "output_type": "stream",
     "text": [
      "Tuesday\n"
     ]
    }
   ],
   "source": [
    "# Ask the user to input a day number.\n",
    "input_day = int(input(\"Please input a day from 1 to 365 : \"))\n",
    "\n",
    "# Use modulus to check the remainder when dividing the day number by 7. This\n",
    "# will give a remainder of 1 for the first day, 2 for the second day etc, and\n",
    "# will loop back around to give a remainder of 1 for the 8th day, 9 for the 9th\n",
    "# day etc.\n",
    "if input_day % 7 == 1:\n",
    "    print (\"Monday\")\n",
    "elif input_day % 7 == 2:\n",
    "    print (\"Tuesday\")\n",
    "elif input_day % 7 == 3:\n",
    "    print (\"Wednesday\")\n",
    "elif input_day % 7 == 4:\n",
    "    print (\"Thursday\")\n",
    "elif input_day % 7 == 5:\n",
    "    print (\"Friday\")\n",
    "elif input_day % 7 == 6:\n",
    "    print (\"Saturday\")\n",
    "elif input_day % 7 == 0:\n",
    "    print (\"Sunday\")\n",
    "else:\n",
    "    print (\"Erm... something's gone wrong!\")"
   ]
  }
 ],
 "metadata": {
  "kernelspec": {
   "display_name": "base",
   "language": "python",
   "name": "python3"
  },
  "language_info": {
   "codemirror_mode": {
    "name": "ipython",
    "version": 3
   },
   "file_extension": ".py",
   "mimetype": "text/x-python",
   "name": "python",
   "nbconvert_exporter": "python",
   "pygments_lexer": "ipython3",
   "version": "3.11.4"
  }
 },
 "nbformat": 4,
 "nbformat_minor": 2
}
