{
 "cells": [
  {
   "cell_type": "markdown",
   "metadata": {},
   "source": [
    "# HSMA 1E - Python Programming Part 1\n",
    "## Exercise 3 - SOLUTIONS"
   ]
  },
  {
   "cell_type": "markdown",
   "metadata": {},
   "source": [
    "This workbook is intended to accompany Session 1E of the HSMA Training Programme - Python Programming Part 1.  You should be completing this when prompted by the trainer as Exercise 3 of the session.  You should read each task, and then try to write code to achieve what you are being asked in the code cell below each set of instructions.  Remember - check your code is working by running the code cell (CTRL + Enter whilst in the cell, or click the play button to the left of the cell)."
   ]
  },
  {
   "cell_type": "markdown",
   "metadata": {},
   "source": [
    "**Task 1** Write code that asks the user to input a number, and the machine then prints out the times table (from 1 x up to and including 12 x the number) for whatever number is entered, using the message format \"*x* * *chosen_number* is *result*\" (e.g \"1 x 2 is 2\", \"2 x 2 is 4\" etc)"
   ]
  },
  {
   "cell_type": "code",
   "execution_count": null,
   "metadata": {},
   "outputs": [],
   "source": [
    "# Ask the user to input a number\n",
    "chosen_number = int(input(\"Please input a number : \"))\n",
    "\n",
    "# Print out the times table for that number (up to 12 x)\n",
    "for x in range(1,13):\n",
    "    print (f\"{x} * {chosen_number} is {x * chosen_number}\")"
   ]
  },
  {
   "cell_type": "markdown",
   "metadata": {},
   "source": [
    "**Task 2** Write code that asks the user for a number to start from, and which then prints a countdown from that number (printing the number each time) until it reaches 0 - at which point, rather than printing 0, it prints \"Thunderbirds are go!\""
   ]
  },
  {
   "cell_type": "code",
   "execution_count": null,
   "metadata": {},
   "outputs": [],
   "source": [
    "# Ask the user for a number from which to start the countdown\n",
    "starting_number = int(input(\"Start from what number?\"))\n",
    "\n",
    "# Print a countdown from that number.  Once 0 is reached, print the Thunderbirds\n",
    "# message rather than the number of 0\n",
    "for x in range(starting_number, -1, -1):\n",
    "    if x > 0:\n",
    "        print (x)\n",
    "    else:\n",
    "        print (\"Thunderbirds are go!\")\n"
   ]
  },
  {
   "cell_type": "markdown",
   "metadata": {},
   "source": [
    "**Task 3** The code cell below contains an import of the random library - you'll learn more about this later, but basically an import allows us to import code that other people have written - in this case, code that allows us to randomly select numbers.  It also contains a line of code that shows you how to use the random library to randomly select an integer between 1 and 10 (inclusive) and store the result in a variable.  Add to this code cell, by storing a variable named number_of_fives that is initially set to 0 and will act as a counter.  Then, get the computer to keep randomly selecting a number between 1 and 10, printing the number it picks, and checking whether the number is a 5.  If it is a 5, it prints an additional message saying it has found a 5, and increases the counter you set up above by 1.  The computer should keep doing this until it finds five 5s, at which point it will declare that \"Johnny Five is Alive!\" and the code will end."
   ]
  },
  {
   "cell_type": "code",
   "execution_count": null,
   "metadata": {},
   "outputs": [],
   "source": [
    "import random # import the random library\n",
    "\n",
    "# example code showing you how to randomly sample an integer between 1 and 10\n",
    "# (inclusive)\n",
    "random_number = random.randint(1,10)\n",
    "\n",
    "# set counter to 0\n",
    "number_of_fives = 0\n",
    "\n",
    "# whilst the computer has found fewer than five 5s, randomly pick a number,\n",
    "# print it and check if it's a 5 (and if it is, print a message saying it's\n",
    "# found one, and increment the counter by 1)\n",
    "while number_of_fives < 5:\n",
    "    random_number = random.randint(1,10)\n",
    "    print (random_number)\n",
    "\n",
    "    if random_number == 5:\n",
    "        print (\"Found a 5!\")\n",
    "        number_of_fives += 1\n",
    "\n",
    "# Who's Johnny?\n",
    "print (\"Johnny Five is Alive!\")"
   ]
  }
 ],
 "metadata": {
  "kernelspec": {
   "display_name": "base",
   "language": "python",
   "name": "python3"
  },
  "language_info": {
   "codemirror_mode": {
    "name": "ipython",
    "version": 3
   },
   "file_extension": ".py",
   "mimetype": "text/x-python",
   "name": "python",
   "nbconvert_exporter": "python",
   "pygments_lexer": "ipython3",
   "version": "3.11.4"
  }
 },
 "nbformat": 4,
 "nbformat_minor": 2
}
